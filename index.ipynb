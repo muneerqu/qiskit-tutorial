{
 "cells": [
  {
   "cell_type": "markdown",
   "metadata": {},
   "source": [
    "<img src=\"images/qiskit-heading.gif\" alt=\"Note: In order for images to show up in this jupyter notebook you need to select File => Trusted Notebook\" width=\"500 px\" align=\"left\">"
   ]
  },
  {
   "cell_type": "markdown",
   "metadata": {},
   "source": [
    "# Qiskit Tutorials\n",
    "\n",
    "***\n",
    "\n",
    "\n",
    "Welcome Qiskitters to the Quantum Information Science Kit ([Qiskit](https://www.qiskit.org/) for short)! \n",
    "\n",
    "To get you started, we have put together a set of tutorials that can be downloaded by clicking [here!](https://github.com/Qiskit/qiskit-tutorial/archive/master.zip).\n",
    "\n",
    "For setup and installation instructions can be view [here](https://github.com/Qiskit/qiskit-tutorial/blob/master/INSTALL.md).\n",
    "\n",
    "***\n",
    "\n",
    "## Contents\n",
    "We have organized the tutorials into two sections:\n",
    "\n",
    "\n",
    "### 1. [Qiskit](qiskit/)<a id='reference'></a>\n",
    "We've collected a core reference set of notebooks in this section outlining the features of Qiskit. We will be keeping them up to date with the latest Qiskit version, currently 0.6. \n",
    "\n",
    "Qiskit is made up of four elements. Terra, Aer, Ignis, and Aqua. \n",
    "\n",
    "#### 1.1 [Getting started with Qiskit](qiskit/basics)\n",
    "\n",
    "Terra is the foundation on which the rest of the software lies. Terra provides a bedrock for composing quantum programs at the level of circuits and pulses, to optimize them for the constraints of a particular device, and to manage the execution of batches of experiments on remote-access devices.\n",
    "  * [Getting started](qiskit/basics/getting_started.ipynb) - how to use Qiskit Terra.\n",
    "  * [Using different gates](qiskit/basics/using_different_gates.ipynb) - list of gates in Qiskit Terra and their linear algebra.\n",
    "  * [Visualisation of quantum data and states](qiskit/basics/Visualisation_of_quantum_data_and_states.ipynb) -  illustrates the different tools we have for visualizing a quantum state.\n",
    "  * [Working with different backends](qiskit/basics/working_with_different_backends.ipynb) - Compiling and running a quantum program on different backends.\n",
    "        \n",
    "#### 1.2 [Quantum information science using Qiskit Terra](qiskit/terra)\n",
    "The next set of notebooks shows how you can explore some simple concepts of quantum information science using Qiskit Terra.\n",
    "  * [Superposition and entanglement](qiskit/terra/superposition_and_entanglement.ipynb) - this tutorial shows you how to make simple quantum states on one and two qubits, and demonstrates concepts such as quantum superpositions and entanglement.\n",
    "  * [Entanglement revisited](qiskit/terra/entanglement_revisited.ipynb) - this tutorial delves deeper into quantum entanglement, looking at the CHSH inequality and Mermin's test.\n",
    "  * [Quantum teleportation and superdense coding](qiskit/terra/teleportation_superdensecoding.ipynb) - this tutorial introduces two simple quantum communication protocols, based on quantum entanglement. \n",
    "    \n",
    "####  1.3 [Understanding your quantum computer](qiskit/ignis)\n",
    "This set of notebooks describes a few of the techniques used to characterize, verify, and validate quantum systems. \n",
    "  * [Relaxation and decoherence](qiskit/ignis/relaxation_and_decoherence.ipynb) - how to measure coherence times on the real quantum hardware\n",
    "  * [Quantum state tomography](qiskit/ignis/state_tomography.ipynb) - how to identify a quantum state using state tomography, in which the state is prepared repeatedly and measured in different bases\n",
    "  * [Quantum process tomography](qiskit/ignis/process_tomography.ipynb) - using quantum process tomography to reconstruct the behavior of a quantum process and measure its fidelity, i.e., how closely it matches the ideal version\n",
    "  * Randomized benchmarking\n",
    "\n",
    "####  1.4 [Working with Qiskit Aqua on near-term devices](qiskit/aqua)\n",
    "Universal fault tolerant quantum computers are still many years away; notebooks in this section describe a few of the things you can do with the approximate quantum computers we have today. [Qiskit Aqua](https://github.com/Qiskit/aqua) provides a library of cross-domain quantum algorithms upon which domain-specific applications for near term quantum computing can be built.\n",
    "  * [Chemistry](qiskit/aqua/quantum_chemistry.ipynb) - using variational quantum eigensolver to experiment with molecular ground-state energy on a quantum computer\n",
    "  * [Optimization](qiskit/aqua/classical_optimization.ipynb) - using variational quantum eigensolver to experiment with optimization problems on a quantum computer \n",
    "  * [Artificial Intelligence](qiskit/aqua/svm_q_kernel.ipynb) - using quantum-enhanced support vector machine to experiment with classification problems on a quantum computer\n",
    "\n",
    "### 3. [Community Notebooks](community/)<a id='appendix'></a>\n",
    "Teaching quantum and qiskit has so many different paths of learning. We love our community and we love the contributions so keep them coming. Because Qiskit is changing so much we cant keep this updated but there are some great notebooks in here.\n",
    "#### 3.1 [Hello, Quantum World](community/hello_world/) \n",
    "Learn form the community how to write your first quantum program.\n",
    "#### 3.2 [Quantum Games](community/games/)\n",
    "Learn quantum computing by having fun.\n",
    "#### 3.2 [Quantum Algorithms](community/algorithms/)\n",
    "Learn Qiskit from the textbook algorithms. \n",
    "#### 3.2 [Qiskit Terra](community/terra/)\n",
    "Learn Qiskit Terra from the community. \n",
    "#### 3.4 [Teach Me Qiskit 2018](community/teach_me_qiskit_2018/README.ipynb)\n",
    "Learn from the great contributions to the Teach Me Qiskit.\n",
    "\n",
    "\n",
    "***  \n",
    "\n",
    "## License\n",
    "This project is licensed under the Apache License 2.0 - see the [LICENSE](https://github.com/Qiskit/qiskit-tutorial/blob/master/LICENSE) file for details."
   ]
  },
  {
   "cell_type": "code",
   "execution_count": null,
   "metadata": {
    "collapsed": true
   },
   "outputs": [],
   "source": []
  }
 ],
 "metadata": {
  "kernelspec": {
   "display_name": "Python 3",
   "language": "python",
   "name": "python3"
  },
  "language_info": {
   "codemirror_mode": {
    "name": "ipython",
    "version": 3
   },
   "file_extension": ".py",
   "mimetype": "text/x-python",
   "name": "python",
   "nbconvert_exporter": "python",
   "pygments_lexer": "ipython3",
   "version": "3.6.4"
  }
 },
 "nbformat": 4,
 "nbformat_minor": 2
}
