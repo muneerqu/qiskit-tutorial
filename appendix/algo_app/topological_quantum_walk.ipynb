{
 "cells": [
  {
   "cell_type": "markdown",
   "metadata": {},
   "source": [
    "<img src=\"../../images/qiskit-heading.gif\" alt=\"Note: In order for images to show up in this jupyter notebook you need to select File => Trusted Notebook\" width=\"500 px\" align=\"left\">"
   ]
  },
  {
   "cell_type": "markdown",
   "metadata": {
    "collapsed": true
   },
   "source": [
    "## _*Topological Quantum Walks on IBM Q*_\n",
    "\n",
    "This notebook is based on the paper of Radhakrishnan Balu, Daniel Castillo, and George Siopsis, \"Physical realization of topological quantum walks on IBM-Q and beyond\" arXiv:1710.03615 \\[quant-ph\\](2017).\n",
    "\n",
    "### Contributors\n",
    "Keita Takeuchi (Univ. of Tokyo) and Rudy Raymond (IBM Research - Tokyo)\n",
    "***"
   ]
  },
  {
   "cell_type": "markdown",
   "metadata": {},
   "source": [
    "## Introduction: challenges in implementing topological walk\n",
    "In this section, we introduce one model of quantum walk called *split-step topological quantum walk*."
   ]
  },
  {
   "cell_type": "markdown",
   "metadata": {},
   "source": [
    "We define Hilbert space of quantum walker states and coin states as \n",
    "$\\mathcal{H}_{\\mathcal{w}}=\\{\\vert x \\rangle, x\\in\\mathbb{Z}_N\\}, \\mathcal{H}_{\\mathcal{c}}=\\{\\vert 0 \\rangle, \\vert 1 \\rangle\\}$, respectively. Then, step operator is defined as\n",
    "\n",
    "$$\n",
    "S^+ := \\vert 0 \\rangle_c \\langle 0 \\vert \\otimes L^+ + \\vert 1 \\rangle_c \\langle 1 \\vert \\otimes \\mathbb{I}\\\\\n",
    "S^- := \\vert 0 \\rangle_c \\langle 0 \\vert \\otimes \\mathbb{I} + \\vert 1 \\rangle_c \\langle 1 \\vert \\otimes L^-,\n",
    "$$\n",
    "\n",
    "where\n",
    "\n",
    "$$\n",
    "L^{\\pm}\\vert x \\rangle_{\\mathcal w} := \\vert (x\\pm1)\\ \\rm{mod}\\ N \\rangle_{\\mathcal w}\n",
    "$$\n",
    "\n",
    "is a shift operator. The boundary condition is included.\n",
    "Also, we define the coin operator as\n",
    "\n",
    "$$\n",
    "T(\\theta):=e^{-i\\theta Y} = \\begin{bmatrix} \\cos\\theta & -\\sin\\theta \\\\ \\sin\\theta & \\cos\\theta \\end{bmatrix}.\n",
    "$$\n",
    "\n",
    "One step of quantum walk is the unitary operator defined as below that uses two mode of coins, i.e., $\\theta_1$ and $\\theta_2$: \n",
    "\n",
    "$$\n",
    "W := S^- T(\\theta_2)S^+ T(\\theta_1).\n",
    "$$\n",
    "\n",
    "Intuitively speaking, the walk consists of flipping coin states and based on the outcome of the coins, the shifting operator is applied to determine the next position of the walk. "
   ]
  },
  {
   "cell_type": "markdown",
   "metadata": {},
   "source": [
    "Next, we consider a walk with two phases that depend on the current position:\n",
    "\n",
    "$$\n",
    "(\\theta_1,\\theta_2) = \\begin{cases}\n",
    "    (\\theta_{1}^{-},\\ \\theta_{2}^{-}) & 0 \\leq x < \\frac{N}{2} \\\\\n",
    "    (\\theta_{1}^{+},\\ \\theta_{2}^{+}) & \\frac{N}{2} \\leq x < N.\n",
    "  \\end{cases}\n",
    "$$\n",
    "\n",
    "Then, two coin operators are rewritten as\n",
    "\n",
    "$$\n",
    "\\mathcal T_i = \\sum^{N-1}_{x=0}e^{-i\\theta_i(x) Y_c}\\otimes \\vert x \\rangle_w \\langle x \\vert,\\ i=1,2.\n",
    "$$\n",
    "\n",
    "By using this, one step of quantum walk is equal to\n",
    "\n",
    "$$\n",
    "W = S^- \\mathcal T_2 S^+ \\mathcal T_1.\n",
    "$$"
   ]
  },
  {
   "cell_type": "markdown",
   "metadata": {
    "collapsed": true
   },
   "source": [
    "In principle, we can execute the quantum walk by multiplying $W$ many times, but then we need many circuit elements to construct it. This is not possible with the current approximate quantum computers due to large errors produced after each application of circuit elements (gates)."
   ]
  },
  {
   "cell_type": "markdown",
   "metadata": {},
   "source": [
    "## Hamiltonian of topological walk\n",
    "\n",
    "Altenatively, we can think of time evolution of the states. The Hamiltonian $H$ is regarded as $H=\\lim_{n \\to \\infty}W^n$(See below for further details.). \n",
    "\n",
    "For example, when $(\\theta_1,\\ \\theta_2) = (0,\\ \\pi/2)$, the Schrödinger equation is\n",
    "\n",
    "$$\n",
    "i\\frac{d}{dt}\\vert \\Psi \\rangle = H_{\\rm I} \\vert \\Psi \\rangle,\\ H_{\\rm I} = -Y\\otimes [2\\mathbb I+L^+ + L^-].\n",
    "$$\n",
    "\n",
    "If Hamiltonian is time independent, the solution of the Schrödinger equation is\n",
    "\n",
    "$$\n",
    "\\vert \\Psi(t) \\rangle = e^{-iHt} \\vert \\Psi(0) \\rangle,\n",
    "$$\n",
    "\n",
    "so we can get the final state at arbitrary time $t$ at once without operating W step by step, if we know the corresponding Hamiltonian.\n",
    "\n",
    "The Hamiltonian can be computed as below.\n",
    "\n",
    "Set $(\\theta_1,\\ \\theta_2) = (\\epsilon,\\ \\pi/2+\\epsilon)$, and $\\epsilon\\to 0$ and the number of step $s\\to \\infty$\n",
    "while $se=t/2$(finite variable). Then,\n",
    "\\begin{align*}\n",
    "    H_I&=\\lim_{n \\to \\infty}W^n\\\\\n",
    "    \\rm{(LHS)} &= \\mathbb{I}-iH_{I}t+O(t^2)\\\\\n",
    "    \\rm{(RHS)} &= \\lim_{\\substack{s\\to \\infty\\\\ \\epsilon\\to 0}}(W^4)^{s/4}=\n",
    "    \\lim_{\\substack{s\\to \\infty\\\\ \\epsilon\\to0}}(\\mathbb{I}+O(\\epsilon))^{s/4}\\\\\n",
    "     &\\simeq \\lim_{\\substack{s\\to \\infty\\\\ \\epsilon\\to 0}}\\mathbb{I}+\\frac{s}{4}O(\\epsilon)\\\\\n",
    "     &= \\lim_{\\epsilon\\to 0}\\mathbb{I}+iY\\otimes [2\\mathbb I+L^+ + L^-]t+O(\\epsilon).\n",
    "\\end{align*}\n",
    "Therefore,\n",
    "$$H_{\\rm I} = -Y\\otimes [2\\mathbb I+L^+ + L^-].$$"
   ]
  },
  {
   "cell_type": "markdown",
   "metadata": {},
   "source": [
    "## Computation model "
   ]
  },
  {
   "cell_type": "markdown",
   "metadata": {},
   "source": [
    "In order to check the correctness of results of the implementation of quantum walk by using IBMQ, we investigate two models, which have different features of coin phases. Let the number of positions on the line $n$ is 4.\n",
    "- $\\rm I / \\rm II:\\ (\\theta_1,\\theta_2) = \\begin{cases}\n",
    "    (0,\\ -\\pi/2) & 0 \\leq x < 2 \\\\\n",
    "    (0,\\ \\pi/2) & 2 \\leq x < 4\n",
    "  \\end{cases}$\n",
    "- $\\rm I:\\ (\\theta_1,\\theta_2)=(0,\\ \\pi/2),\\ 0 \\leq x < 4$\n",
    "\n",
    "That is, the former is a quantum walk on a line with two phases of coins, while the latter is that with only one phase of coins.\n",
    "\n",
    "<img src=\"images/q_walk_lattice_2phase.png\" width=\"30%\" height=\"30%\">\n",
    "<div style=\"text-align: center;\">\n",
    "Figure 1. Quantum Walk on a line with two phases\n",
    "</div>"
   ]
  },
  {
   "cell_type": "markdown",
   "metadata": {},
   "source": [
    "The Hamiltonian operators for each of the walk on the line are, respectively, \n",
    "$$\n",
    "H_{\\rm I/II} = Y \\otimes \\mathbb I \\otimes \\frac{\\mathbb I + Z}{2}\\\\\n",
    "H_{\\rm I} = Y\\otimes (2\\mathbb I\\otimes \\mathbb I + \\mathbb I\\otimes X + X \\otimes X).\n",
    "$$\n",
    "\n",
    "Then, we want to implement the above Hamiltonian operators with the unitary operators as product of two-qubit gates CNOTs, CZs, and single-qubit gate rotation matrices. Notice that the CNOT and CZ gates are\n",
    "\\begin{align*}\n",
    "  \\rm{CNOT_{ct}}&=\\left |0\\right\\rangle_c\\left\\langle0\\right | \\otimes I_t + \\left |1\\right\\rangle_c\\left\\langle1\\right | \\otimes X_t\\\\\n",
    "  \\rm{CZ_{ct}}&=\\left |0\\right\\rangle_c\\left\\langle0\\right | \\otimes I_t + \\left |1\\right\\rangle_c\\left\\langle1\\right | \\otimes Z_t.\n",
    "\\end{align*}\n",
    "\n",
    "Below is the reference of converting Hamiltonian into unitary operators useful for the topological quantum walk.\n",
    "<br><br>\n",
    "\n",
    "\n",
    "<div style=\"text-align: center;\">\n",
    "Table 1. Relation between the unitary operator and product of elementary gates\n",
    "</div>\n",
    "\n",
    "|unitary operator|product of circuit elements|\n",
    "|:-:|:-:|\n",
    "|$e^{-i\\theta X_c X_j}$|$\\rm{CNOT_{cj}}\\cdot e^{-i\\theta X_c t}\\cdot \\rm{CNOT_{cj}}$|\n",
    "|$e^{-i\\theta X_c Z_j}$|$\\rm{CZ_{cj}}\\cdot e^{-i\\theta X_c t}\\cdot \\rm{CZ_{cj}}$|\n",
    "|$e^{-i\\theta Y_c X_j}$|$\\rm{CNOT_{cj}}\\cdot e^{i\\theta Y_c t}\\cdot \\rm{CNOT_{cj}}$|\n",
    "|$e^{-i\\theta Y_c Z_j}$|$\\rm{CNOT_{jc}}\\cdot e^{-i\\theta Y_c t}\\cdot \\rm{CNOT_{jc}}$|\n",
    "|$e^{-i\\theta Z_c X_j}$|$\\rm{CZ_{cj}}\\cdot e^{-i\\theta X_j t}\\cdot \\rm{CZ_{cj}}$|\n",
    "|$e^{-i\\theta Z_c Z_j}$|$\\rm{CNOT_{jc}}\\cdot e^{-i\\theta Z_c t}\\cdot \\rm{CNOT_{jc}}$|\n",
    "\n",
    "By using these formula, the unitary operators are represented by only CNOT, CZ, and rotation matrices, so we can implement them by using IBM Q, as below.\n",
    "\n",
    "### Phase I/II:<br><br>\n",
    "\n",
    "\\begin{align*}\n",
    "  e^{-iH_{I/II}t}=~&e^{-itY_c \\otimes \\mathbb I_0 \\otimes \\frac{\\mathbb I_1 + Z_1}{2}}\\\\\n",
    "  =~& e^{-iY_c t}e^{-itY_c\\otimes Z_1}\\\\\n",
    "  =~& e^{-iY_c t}\\cdot\\rm{CNOT_{1c}}\\cdot e^{-i Y_c t}\\cdot\\rm{CNOT_{1c}}\n",
    "\\end{align*}\n",
    "\n",
    "<img src=\"images/c12.png\" width=\"50%\" height=\"60%\">\n",
    "<div style=\"text-align: center;\">\n",
    "Figure 2. Phase I/II on $N=4$ lattice$(t=8)$ - $q[0]:2^0,\\ q[1]:coin,\\ q[2]:2^1$\n",
    "</div>\n",
    "\n",
    "<br><br>\n",
    "### Phase I:<br><br>\n",
    "\n",
    "\\begin{align*}\n",
    "  e^{-iH_I t}=~&e^{-itY_c\\otimes (2\\mathbb I_0\\otimes \\mathbb I_1 + \\mathbb I_0\\otimes X_1 + X_0 \\otimes X_1)}\\\\\n",
    "  =~&e^{-2itY_c}e^{-itY_c\\otimes X_1}e^{-itY_c\\otimes X_0 \\otimes X_1}\\\\\n",
    "  =~&e^{-2iY_c t}\\cdot\\rm{CNOT_{c1}}\\cdot\\rm{CNOT_{c0}}\\cdot e^{-iY_c t}\\cdot\\rm{CNOT_{c0}}\\cdot e^{-iY_c t}\\cdot\\rm{CNOT_{c1}}\n",
    "\\end{align*}\n",
    "\n",
    "<img src=\"images/c1.png\" width=\"70%\" height=\"70%\">\n",
    "<div style=\"text-align: center;\">\n",
    "Figure 3. Phase I on $N=4$ lattice$(t=8)$ - $q[0]:2^0,\\ q[1]:2^1,\\ q[2]:coin$\n",
    "</div>"
   ]
  },
  {
   "cell_type": "markdown",
   "metadata": {},
   "source": [
    "## Implementation"
   ]
  },
  {
   "cell_type": "code",
   "execution_count": 14,
   "metadata": {},
   "outputs": [],
   "source": [
    "#initialization\n",
    "import sys\n",
    "import matplotlib.pyplot as plt\n",
    "%matplotlib inline\n",
    "import numpy as np\n",
    "\n",
    "# importing the QISKit\n",
    "# from qiskit import QuantumProgram\n",
    "from qiskit import QuantumRegister, QuantumCircuit, ClassicalRegister, execute\n",
    "try:\n",
    "    sys.path.append(\"../../\") # go to parent dir\n",
    "    import Qconfig\n",
    "    qx_config = {\n",
    "        \"APItoken\": Qconfig.APItoken,\n",
    "        \"url\": Qconfig.config['url']}\n",
    "except:\n",
    "    qx_config = {\n",
    "        \"APItoken\":\"YOUR_TOKEN_HERE\",\n",
    "        \"url\":\"https://quantumexperience.ng.bluemix.net/api\"}\n",
    "    \n",
    "# import basic plot tools\n",
    "from qiskit.tools.visualization import plot_histogram\n",
    "\n",
    "#set api\n",
    "from IBMQuantumExperience import IBMQuantumExperience\n",
    "api = IBMQuantumExperience(token=qx_config['APItoken'], config={'url': qx_config['url']})\n",
    "\n",
    "#prepare backends\n",
    "# from qiskit.backends import discover_local_backends, discover_remote_backends, get_backend_instance\n",
    "from qiskit import available_backends, backends \n",
    "# remote_backends = discover_remote_backends(api) #we have to call this to connect to remote backends\n",
    "# local_backends = discover_local_backends()\n",
    "\n",
    "\n",
    "# Quantum program setup\n",
    "# Q_program = QuantumProgram()"
   ]
  },
  {
   "cell_type": "code",
   "execution_count": 15,
   "metadata": {},
   "outputs": [],
   "source": [
    "#for plot with 16qubit\n",
    "import numpy as np\n",
    "from functools import reduce\n",
    "from scipy import linalg as la\n",
    "from collections import Counter\n",
    "import matplotlib.pyplot as plt\n",
    "\n",
    "def plot_histogram5(data, number_to_keep=False):\n",
    "    \"\"\"Plot a histogram of data.\n",
    "    data is a dictionary of  {'000': 5, '010': 113, ...}\n",
    "    number_to_keep is the number of terms to plot and rest is made into a\n",
    "    single bar called other values\n",
    "    \"\"\"\n",
    "    if number_to_keep is not False:\n",
    "        data_temp = dict(Counter(data).most_common(number_to_keep))\n",
    "        data_temp[\"rest\"] = sum(data.values()) - sum(data_temp.values())\n",
    "        data = data_temp\n",
    "\n",
    "    labels = sorted(data)\n",
    "    values = np.array([data[key] for key in labels], dtype=float)\n",
    "    pvalues = values / sum(values)\n",
    "    numelem = len(values)\n",
    "    ind = np.arange(numelem)  # the x locations for the groups\n",
    "    width = 0.35  # the width of the bars\n",
    "    fig, ax = plt.subplots()\n",
    "    rects = ax.bar(ind, pvalues, width, color='seagreen')\n",
    "    # add some text for labels, title, and axes ticks\n",
    "    ax.set_ylabel('Probabilities', fontsize=12)\n",
    "    ax.set_xticks(ind)\n",
    "    ax.set_xticklabels(labels, fontsize=12, rotation=70)\n",
    "    ax.set_ylim([0., min([1.2, max([1.2 * val for val in pvalues])])])\n",
    "    # attach some text labels\n",
    "    for rect in rects:\n",
    "        height = rect.get_height()\n",
    "        ax.text(rect.get_x() + rect.get_width() / 2., 1.05 * height,\n",
    "                '%f' % float(height),\n",
    "                ha='center', va='bottom', fontsize=8)\n",
    "    plt.show()"
   ]
  },
  {
   "cell_type": "markdown",
   "metadata": {},
   "source": [
    "**Quantum walk, phase I/II on $N=4$ lattice$(t=8)$**"
   ]
  },
  {
   "cell_type": "code",
   "execution_count": 16,
   "metadata": {},
   "outputs": [],
   "source": [
    "q1_2 = QuantumRegister(3)\n",
    "c1_2 = ClassicalRegister(3)\n",
    "qw1_2 = QuantumCircuit(q1_2, c1_2)"
   ]
  },
  {
   "cell_type": "code",
   "execution_count": 17,
   "metadata": {},
   "outputs": [
    {
     "name": "stdout",
     "output_type": "stream",
     "text": [
      "OPENQASM 2.0;\n",
      "include \"qelib1.inc\";\n",
      "qreg q2[3];\n",
      "creg c2[3];\n",
      "x q2[2];\n",
      "u3(8,0,0) q2[1];\n",
      "cx q2[2],q2[1];\n",
      "u3(8,0,0) q2[1];\n",
      "cx q2[2],q2[1];\n",
      "measure q2[0] -> c2[0];\n",
      "measure q2[1] -> c2[2];\n",
      "measure q2[2] -> c2[1];\n",
      "\n"
     ]
    }
   ],
   "source": [
    "t=8 #time\n",
    "qw1_2.x(q1_2[2])\n",
    "qw1_2.u3(t, 0, 0, q1_2[1])\n",
    "qw1_2.cx(q1_2[2], q1_2[1])\n",
    "qw1_2.u3(t, 0, 0, q1_2[1])\n",
    "qw1_2.cx(q1_2[2], q1_2[1])\n",
    "qw1_2.measure(q1_2[0], c1_2[0])\n",
    "qw1_2.measure(q1_2[1], c1_2[2])\n",
    "qw1_2.measure(q1_2[2], c1_2[1])\n",
    "print(qw1_2.qasm())"
   ]
  },
  {
   "cell_type": "markdown",
   "metadata": {},
   "source": [
    "Below is the result when executing the circuit on the simulator."
   ]
  },
  {
   "cell_type": "code",
   "execution_count": 18,
   "metadata": {},
   "outputs": [
    {
     "data": {
      "image/png": "[encoded data removed]",
      "text/plain": [
       "<Figure size 432x288 with 1 Axes>"
      ]
     },
     "metadata": {
      "needs_background": "light"
     },
     "output_type": "display_data"
    }
   ],
   "source": [
    "result = execute(qw1_2, backend='local_qasm_simulator', shots=1000)\n",
    "plot_histogram(result.result().get_counts(qw1_2))"
   ]
  },
  {
   "cell_type": "markdown",
   "metadata": {},
   "source": [
    "And below is the result when executing the circuit on the real device."
   ]
  },
  {
   "cell_type": "code",
   "execution_count": 19,
   "metadata": {
    "scrolled": true
   },
   "outputs": [
    {
     "data": {
      "image/png": "[encoded data removed]",
      "text/plain": [
       "<Figure size 432x288 with 1 Axes>"
      ]
     },
     "metadata": {
      "needs_background": "light"
     },
     "output_type": "display_data"
    }
   ],
   "source": [
    "# result = Q_program.execute([\"qw1_2\"], backend='ibmqx4', shots=1000, max_credits=3, wait=10, timeout=1024)\n",
    "result = execute(qw1_2, backend='local_qasm_simulator', shots=1000, max_credits=3)\n",
    "plot_histogram(result.result().get_counts(qw1_2))"
   ]
  },
  {
   "cell_type": "markdown",
   "metadata": {},
   "source": [
    "**Conclusion**: The walker is bounded at the initial state, which is the boundary of two phases, when the quantum walk on the line has two phases. "
   ]
  },
  {
   "cell_type": "markdown",
   "metadata": {},
   "source": [
    "**Quantum walk, phase I on $N=4$ lattice$(t=8)$**"
   ]
  },
  {
   "cell_type": "code",
   "execution_count": 20,
   "metadata": {},
   "outputs": [],
   "source": [
    "q1 = QuantumRegister(3)\n",
    "c1 = ClassicalRegister(3)\n",
    "qw1 = QuantumCircuit(q1, c1)"
   ]
  },
  {
   "cell_type": "code",
   "execution_count": 21,
   "metadata": {},
   "outputs": [
    {
     "name": "stdout",
     "output_type": "stream",
     "text": [
      "OPENQASM 2.0;\n",
      "include \"qelib1.inc\";\n",
      "qreg q3[3];\n",
      "creg c3[3];\n",
      "x q3[1];\n",
      "cx q3[2],q3[1];\n",
      "u3(8,0,0) q3[2];\n",
      "cx q3[2],q3[0];\n",
      "u3(8,0,0) q3[2];\n",
      "cx q3[2],q3[0];\n",
      "cx q3[2],q3[1];\n",
      "u3(16,0,0) q3[2];\n",
      "measure q3[0] -> c3[0];\n",
      "measure q3[1] -> c3[1];\n",
      "measure q3[2] -> c3[2];\n",
      "\n"
     ]
    }
   ],
   "source": [
    "t=8 #time\n",
    "qw1.x(q1[1])\n",
    "qw1.cx(q1[2], q1[1])\n",
    "qw1.u3(t, 0, 0, q1[2])\n",
    "qw1.cx(q1[2], q1[0])\n",
    "qw1.u3(t, 0, 0, q1[2])\n",
    "qw1.cx(q1[2], q1[0])\n",
    "qw1.cx(q1[2], q1[1])\n",
    "qw1.u3(2*t, 0, 0, q1[2])\n",
    "qw1.measure(q1[0], c1[0])\n",
    "qw1.measure(q1[1], c1[1])\n",
    "qw1.measure(q1[2], c1[2])\n",
    "print(qw1.qasm())"
   ]
  },
  {
   "cell_type": "markdown",
   "metadata": {},
   "source": [
    "Below is the result when executing the circuit on the simulator."
   ]
  },
  {
   "cell_type": "code",
   "execution_count": 23,
   "metadata": {},
   "outputs": [
    {
     "data": {
      "image/png": "[encoded data removed]",
      "text/plain": [
       "<Figure size 432x288 with 1 Axes>"
      ]
     },
     "metadata": {
      "needs_background": "light"
     },
     "output_type": "display_data"
    }
   ],
   "source": [
    "result = execute(qw1, backend='local_qasm_simulator')\n",
    "plot_histogram(result.result().get_counts(qw1))"
   ]
  },
  {
   "cell_type": "code",
   "execution_count": 22,
   "metadata": {},
   "outputs": [
    {
     "data": {
      "image/png": "[encoded data removed]",
      "text/plain": [
       "<Figure size 432x288 with 1 Axes>"
      ]
     },
     "metadata": {
      "needs_background": "light"
     },
     "output_type": "display_data"
    }
   ],
   "source": [
    "# result = Q_program.execute([\"qw1\"], backend='ibmqx4', shots=1000, max_credits=3, wait=10, timeout=600)\n",
    "result = execute(qw1, backend='local_qasm_simulator', shots=1000, max_credits=3)\n",
    "plot_histogram(result.result().get_counts(qw1))"
   ]
  },
  {
   "cell_type": "markdown",
   "metadata": {},
   "source": [
    "**Conclusion**: The walker is unbounded when the quantum walk on the line has one phase."
   ]
  },
  {
   "cell_type": "markdown",
   "metadata": {},
   "source": [
    "We can see that the results from simulators match those from real devices. This hints that IBM Q systems can be used to experiments with topological quantum walk."
   ]
  },
  {
   "cell_type": "code",
   "execution_count": null,
   "metadata": {},
   "outputs": [],
   "source": []
  }
 ],
 "metadata": {
  "kernelspec": {
   "display_name": "Python 3",
   "language": "python",
   "name": "python3"
  },
  "language_info": {
   "codemirror_mode": {
    "name": "ipython",
    "version": 3
   },
   "file_extension": ".py",
   "mimetype": "text/x-python",
   "name": "python",
   "nbconvert_exporter": "python",
   "pygments_lexer": "ipython3",
   "version": "3.7.0"
  }
 },
 "nbformat": 4,
 "nbformat_minor": 2
}
