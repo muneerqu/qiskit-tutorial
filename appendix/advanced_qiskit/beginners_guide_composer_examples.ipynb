{
 "cells": [
  {
   "cell_type": "markdown",
   "metadata": {},
   "source": [
    "<img src=\"../../images/qiskit-heading.gif\" alt=\"Note: In order for images to show up in this jupyter notebook you need to select File => Trusted Notebook\" width=\"500 px\" align=\"left\">"
   ]
  },
  {
   "cell_type": "markdown",
   "metadata": {},
   "source": [
    "# Beginner's Guide\n",
    "This is meant as a companion for the SDK to the different composer examples in the [Beginner's Guide](https://quantumexperience.ng.bluemix.net/qx/tutorial?sectionId=beginners-guide&page=introduction). All examples run with the local default simulation backend. You can import your Qconfig and configure the API if you would like to run on a real device. \n",
    "\n",
    "All images are from the Beginner's Guide in the referenced sections. This does not include the detailed text of the Beginner's Guide. It is designed to show how the composer examples can be executed with the SDK.\n",
    "\n",
    "***\n",
    "### Contributors\n",
    "Evan Kepner"
   ]
  },
  {
   "cell_type": "code",
   "execution_count": 1,
   "metadata": {},
   "outputs": [],
   "source": [
    "import os\n",
    "import sys\n",
    "\n",
    "from IPython.display import Image\n",
    "\n",
    "# from qiskit import QuantumProgram\n",
    "from qiskit import QuantumRegister, QuantumCircuit, ClassicalRegister, execute\n",
    "from qiskit.tools.visualization import plot_histogram, circuit_drawer"
   ]
  },
  {
   "cell_type": "markdown",
   "metadata": {},
   "source": [
    "# Helper functions\n",
    "These lines of code are used throughout the tutorial as helper functions. These are used to display local images for the composer references, and execute and plot circuits in the quantum program."
   ]
  },
  {
   "cell_type": "code",
   "execution_count": 2,
   "metadata": {},
   "outputs": [],
   "source": [
    "def show_image(img_name):\n",
    "    \"\"\"Display an image in the notebook.\n",
    "    \n",
    "    This is set to the default path of the root of the tutorials repo\n",
    "    images directory in the sub-folder 'intro_img'.\n",
    "    \n",
    "    Args:\n",
    "        img_name (str): file name to display\n",
    "    \"\"\"\n",
    "    return Image(filename=os.path.join(\"..\", \"images\", \"intro_img\", img_name))\n",
    "\n",
    "def execute_and_plot(circuit):\n",
    "    \"\"\"Execute and plot the histograms with default settings.\n",
    "    \n",
    "    Args:\n",
    "        qp: QuantumProgram containing the circuits\n",
    "        circuits (list): list of circuits to execute\n",
    "    \"\"\"\n",
    "    results = execute(circuit, backend='local_qasm_simulator')\n",
    "    plot_histogram(results.result().get_counts(circuit))"
   ]
  },
  {
   "cell_type": "markdown",
   "metadata": {},
   "source": [
    "# Quantum Program Setup\n",
    "We're starting with a single qubit and classical register."
   ]
  },
  {
   "cell_type": "code",
   "execution_count": 3,
   "metadata": {},
   "outputs": [],
   "source": [
    "# qp = QuantumProgram()\n",
    "\n",
    "n = 1  # number of qubits\n",
    "# q = qp.create_quantum_register(\"q\", n)\n",
    "# c = qp.create_classical_register(\"c\", n)\n",
    "q = QuantumRegister(n)\n",
    "c = ClassicalRegister(n)"
   ]
  },
  {
   "cell_type": "markdown",
   "metadata": {},
   "source": [
    "# Single-Qubit Gates\n",
    "Composer examples from the [Beginner's Guide](https://quantumexperience.ng.bluemix.net/qx/tutorial?sectionId=beginners-guide&page=005-Single-Qubit_Gates~2F001-Single-Qubit_Gates)."
   ]
  },
  {
   "cell_type": "markdown",
   "metadata": {},
   "source": [
    "## X-gate"
   ]
  },
  {
   "cell_type": "code",
   "execution_count": 4,
   "metadata": {},
   "outputs": [],
   "source": [
    "# show_image(\"single_q_x_gate.png\")"
   ]
  },
  {
   "cell_type": "code",
   "execution_count": 5,
   "metadata": {},
   "outputs": [
    {
     "data": {
      "image/png": "[encoded data removed]",
      "text/plain": [
       "<Figure size 432x288 with 1 Axes>"
      ]
     },
     "metadata": {
      "needs_background": "light"
     },
     "output_type": "display_data"
    }
   ],
   "source": [
    "# single_x = qp.create_circuit(\"single_x\", [q], [c])\n",
    "single_x = QuantumCircuit(q,c)\n",
    "single_x.x(q[0])\n",
    "single_x.measure(q[0], c[0])\n",
    "execute_and_plot(single_x)\n",
    "circuit_drawer(single_x)"
   ]
  },
  {
   "cell_type": "markdown",
   "metadata": {},
   "source": [
    "# Creating superposition\n",
    "Composer examples from the [creating superposition](https://quantumexperience.ng.bluemix.net/qx/tutorial?sectionId=beginners-guide&page=005-Single-Qubit_Gates~2F002-Creating_superposition) section."
   ]
  },
  {
   "cell_type": "markdown",
   "metadata": {},
   "source": [
    "## H-gate"
   ]
  },
  {
   "cell_type": "code",
   "execution_count": 6,
   "metadata": {},
   "outputs": [],
   "source": [
    "# show_image(\"single_q_h_gate_0.png\")"
   ]
  },
  {
   "cell_type": "code",
   "execution_count": 7,
   "metadata": {},
   "outputs": [
    {
     "data": {
      "image/png": "[encoded data removed]",
      "text/plain": [
       "<Figure size 432x288 with 1 Axes>"
      ]
     },
     "metadata": {
      "needs_background": "light"
     },
     "output_type": "display_data"
    }
   ],
   "source": [
    "single_h = QuantumCircuit(q,c)\n",
    "single_h.h(q[0])\n",
    "single_h.measure(q[0], c[0])\n",
    "execute_and_plot(single_h)\n",
    "circuit_drawer(single_h)"
   ]
  },
  {
   "cell_type": "code",
   "execution_count": 8,
   "metadata": {},
   "outputs": [],
   "source": [
    "# show_image(\"single_q_h_gate_1.png\")"
   ]
  },
  {
   "cell_type": "code",
   "execution_count": 9,
   "metadata": {},
   "outputs": [
    {
     "data": {
      "image/png": "[encoded data removed]",
      "text/plain": [
       "<Figure size 432x288 with 1 Axes>"
      ]
     },
     "metadata": {
      "needs_background": "light"
     },
     "output_type": "display_data"
    }
   ],
   "source": [
    "single_xh = QuantumCircuit(q, c)\n",
    "single_xh.x(q[0])\n",
    "single_xh.h(q[0])\n",
    "single_xh.measure(q[0], c[0])\n",
    "execute_and_plot(single_xh)\n",
    "circuit_drawer(single_xh)"
   ]
  },
  {
   "cell_type": "code",
   "execution_count": 10,
   "metadata": {},
   "outputs": [],
   "source": [
    "# show_image(\"single_q_h_gate_2.png\")"
   ]
  },
  {
   "cell_type": "code",
   "execution_count": 11,
   "metadata": {},
   "outputs": [
    {
     "data": {
      "image/png": "[encoded data removed]",
      "text/plain": [
       "<Figure size 432x288 with 1 Axes>"
      ]
     },
     "metadata": {
      "needs_background": "light"
     },
     "output_type": "display_data"
    }
   ],
   "source": [
    "# This is the |+> state\n",
    "single_hh = QuantumCircuit(q,c)\n",
    "single_hh.h(q[0])\n",
    "single_hh.h(q[0])\n",
    "single_hh.measure(q[0], c[0])\n",
    "execute_and_plot(single_hh)\n",
    "circuit_drawer(single_hh)"
   ]
  },
  {
   "cell_type": "code",
   "execution_count": 12,
   "metadata": {},
   "outputs": [],
   "source": [
    "# show_image(\"single_q_h_gate_3.png\")"
   ]
  },
  {
   "cell_type": "code",
   "execution_count": 13,
   "metadata": {},
   "outputs": [
    {
     "data": {
      "image/png": "[encoded data removed]",
      "text/plain": [
       "<Figure size 432x288 with 1 Axes>"
      ]
     },
     "metadata": {
      "needs_background": "light"
     },
     "output_type": "display_data"
    }
   ],
   "source": [
    "# This is the |-> state\n",
    "single_xhh = QuantumCircuit(q, c)\n",
    "single_xhh.x(q[0])\n",
    "single_xhh.h(q[0])\n",
    "single_xhh.h(q[0])\n",
    "single_xhh.measure(q[0],c[0])\n",
    "execute_and_plot(single_xhh)\n",
    "circuit_drawer(single_xhh)"
   ]
  },
  {
   "cell_type": "markdown",
   "metadata": {},
   "source": [
    "# Introducing qubit phase\n",
    "These are the composer examples from [introducing qubit phase](https://quantumexperience.ng.bluemix.net/qx/tutorial?sectionId=beginners-guide&page=005-Single-Qubit_Gates~2F005-Introducing_qubit_phase)."
   ]
  },
  {
   "cell_type": "markdown",
   "metadata": {},
   "source": [
    "## Z-gate"
   ]
  },
  {
   "cell_type": "code",
   "execution_count": 14,
   "metadata": {},
   "outputs": [],
   "source": [
    "# show_image(\"single_q_z_gate_0.png\")"
   ]
  },
  {
   "cell_type": "code",
   "execution_count": 15,
   "metadata": {},
   "outputs": [
    {
     "data": {
      "image/png": "[encoded data removed]",
      "text/plain": [
       "<Figure size 432x288 with 1 Axes>"
      ]
     },
     "metadata": {
      "needs_background": "light"
     },
     "output_type": "display_data"
    }
   ],
   "source": [
    "single_z = QuantumCircuit(q,c)\n",
    "single_z.z(q[0])\n",
    "single_z.measure(q[0],c[0])\n",
    "execute_and_plot(single_z)\n",
    "circuit_drawer(single_z)"
   ]
  },
  {
   "cell_type": "code",
   "execution_count": 16,
   "metadata": {},
   "outputs": [],
   "source": [
    "# show_image(\"single_q_z_gate_1.png\")"
   ]
  },
  {
   "cell_type": "code",
   "execution_count": 17,
   "metadata": {},
   "outputs": [
    {
     "data": {
      "image/png": "[encoded data removed]",
      "text/plain": [
       "<Figure size 432x288 with 1 Axes>"
      ]
     },
     "metadata": {
      "needs_background": "light"
     },
     "output_type": "display_data"
    }
   ],
   "source": [
    "single_zh = QuantumCircuit(q,c)\n",
    "single_zh.h(q[0])\n",
    "single_zh.z(q[0])\n",
    "single_zh.measure(q[0],c[0])\n",
    "execute_and_plot(single_zh)\n",
    "circuit_drawer(single_zh)"
   ]
  },
  {
   "cell_type": "code",
   "execution_count": 18,
   "metadata": {},
   "outputs": [],
   "source": [
    "# show_image(\"single_q_z_gate_tbl.png\")"
   ]
  },
  {
   "cell_type": "code",
   "execution_count": 19,
   "metadata": {},
   "outputs": [
    {
     "data": {
      "image/png": "[encoded data removed]",
      "text/plain": [
       "<Figure size 432x288 with 1 Axes>"
      ]
     },
     "metadata": {
      "needs_background": "light"
     },
     "output_type": "display_data"
    },
    {
     "data": {
      "image/png": "[encoded data removed]",
      "text/plain": [
       "<Figure size 432x288 with 1 Axes>"
      ]
     },
     "metadata": {
      "needs_background": "light"
     },
     "output_type": "display_data"
    },
    {
     "data": {
      "image/png": "[encoded data removed]",
      "text/plain": [
       "<Figure size 432x288 with 1 Axes>"
      ]
     },
     "metadata": {
      "needs_background": "light"
     },
     "output_type": "display_data"
    },
    {
     "data": {
      "image/png": "[encoded data removed]",
      "text/plain": [
       "<Figure size 432x288 with 1 Axes>"
      ]
     },
     "metadata": {
      "needs_background": "light"
     },
     "output_type": "display_data"
    },
    {
     "data": {
      "image/png": "[encoded data removed]",
      "text/plain": [
       "<Figure size 432x288 with 1 Axes>"
      ]
     },
     "metadata": {
      "needs_background": "light"
     },
     "output_type": "display_data"
    }
   ],
   "source": [
    "# 0 rotation around z, Pr(0) = 1.0\n",
    "phs_0 = QuantumCircuit(q,c)\n",
    "phs_0.h(q[0])\n",
    "phs_0.h(q[0])  # for x-basis measurement\n",
    "phs_0.measure(q[0], c[0])\n",
    "\n",
    "# pi/4 rotation around z, Pr(0) = 0.85\n",
    "phs_pi4 = QuantumCircuit(q,c)\n",
    "phs_pi4.h(q[0])\n",
    "phs_pi4.t(q[0])\n",
    "phs_pi4.h(q[0])  # for x-basis measurement\n",
    "phs_pi4.measure(q[0], c[0])\n",
    "\n",
    "# pi/2 rotation around z, Pr(0) = 0.5\n",
    "phs_pi2 = QuantumCircuit(q,c)\n",
    "phs_pi2.h(q[0])\n",
    "phs_pi2.s(q[0])\n",
    "# Alternate example gate:\n",
    "#phs_pi2.sdg(q[0])  #rotation -pi/2 using sdg instead of s\n",
    "phs_pi2.h(q[0])  # for x-basis measurement\n",
    "phs_pi2.measure(q[0], c[0])\n",
    "\n",
    "# 3pi/4 rotation around z, Pr(0) = 0.15\n",
    "phs_3pi4 = QuantumCircuit(q,c)\n",
    "phs_3pi4.h(q[0])\n",
    "phs_3pi4.s(q[0])\n",
    "phs_3pi4.t(q[0])\n",
    "phs_3pi4.h(q[0])  # for x-basis measurement\n",
    "phs_3pi4.measure(q[0], c[0])\n",
    "\n",
    "# pi rotation around z, Pr(0) = 0\n",
    "phs_pi = QuantumCircuit(q,c)\n",
    "phs_pi.h(q[0])\n",
    "phs_pi.z(q[0])\n",
    "phs_pi.h(q[0])  # for measurement\n",
    "phs_pi.measure(q[0], c[0])\n",
    "\n",
    "# execute_and_plot(qp, [\"phs_0\", \"phs_pi4\", \"phs_pi2\",\n",
    "#                       \"phs_3pi4\", \"phs_pi\"])\n",
    "# print('phs_0')\n",
    "execute_and_plot(phs_0)\n",
    "# circuit_drawer(phs_0)\n",
    "# print('phs_pi4')\n",
    "execute_and_plot(phs_pi4)\n",
    "# circuit_drawer(phs_pi4)\n",
    "# print('phs_pi2')\n",
    "execute_and_plot(phs_pi2)\n",
    "# circuit_drawer(phs_pi2)\n",
    "# print('phs_3pi4')\n",
    "execute_and_plot(phs_3pi4)\n",
    "# circuit_drawer(phs_3pi4)\n",
    "# print('phs_pi')\n",
    "execute_and_plot(phs_pi)\n",
    "# circuit_drawer(phs_pi)"
   ]
  },
  {
   "cell_type": "markdown",
   "metadata": {},
   "source": [
    "# Multi qubit gates\n",
    "Composer examples from [multi qubit gates](https://quantumexperience.ng.bluemix.net/qx/tutorial?sectionId=beginners-guide&page=006-Multi-Qubit_Gates~2F001-Multi-Qubit_Gates) section. We set up new registers that have two qubits and classical components using the same quantum program."
   ]
  },
  {
   "cell_type": "code",
   "execution_count": 20,
   "metadata": {},
   "outputs": [],
   "source": [
    "n = 2  # number of qubits\n",
    "q2 = QuantumRegister(n)\n",
    "c2 = ClassicalRegister(n)"
   ]
  },
  {
   "cell_type": "code",
   "execution_count": 21,
   "metadata": {},
   "outputs": [],
   "source": [
    "# show_image(\"multi_q_0.png\")"
   ]
  },
  {
   "cell_type": "code",
   "execution_count": 22,
   "metadata": {},
   "outputs": [
    {
     "data": {
      "image/png": "[encoded data removed]",
      "text/plain": [
       "<Figure size 432x288 with 1 Axes>"
      ]
     },
     "metadata": {
      "needs_background": "light"
     },
     "output_type": "display_data"
    }
   ],
   "source": [
    "# |00> -- |00>\n",
    "cnot_00 = QuantumCircuit(q2,c2)\n",
    "cnot_00.cx(q2[0], q2[1])\n",
    "cnot_00.measure(q2[0], c2[0])\n",
    "cnot_00.measure(q2[1], c2[1])\n",
    "execute_and_plot(cnot_00)\n",
    "circuit_drawer(cnot_00)"
   ]
  },
  {
   "cell_type": "code",
   "execution_count": 23,
   "metadata": {},
   "outputs": [],
   "source": [
    "# show_image(\"multi_q_1.png\")"
   ]
  },
  {
   "cell_type": "code",
   "execution_count": 24,
   "metadata": {},
   "outputs": [
    {
     "data": {
      "image/png": "[encoded data removed]",
      "text/plain": [
       "<Figure size 432x288 with 1 Axes>"
      ]
     },
     "metadata": {
      "needs_background": "light"
     },
     "output_type": "display_data"
    }
   ],
   "source": [
    "# |01> -- |11>\n",
    "cnot_01 = QuantumCircuit(q2, c2)\n",
    "cnot_01.x(q2[0])\n",
    "cnot_01.cx(q2[0], q2[1])\n",
    "cnot_01.measure(q2[0], c2[0])\n",
    "cnot_01.measure(q2[1], c2[1])\n",
    "execute_and_plot(cnot_01)\n",
    "circuit_drawer(cnot_01)"
   ]
  },
  {
   "cell_type": "code",
   "execution_count": 25,
   "metadata": {},
   "outputs": [],
   "source": [
    "# show_image(\"multi_q_2.png\")"
   ]
  },
  {
   "cell_type": "code",
   "execution_count": 26,
   "metadata": {},
   "outputs": [
    {
     "data": {
      "image/png": "[encoded data removed]",
      "text/plain": [
       "<Figure size 432x288 with 1 Axes>"
      ]
     },
     "metadata": {
      "needs_background": "light"
     },
     "output_type": "display_data"
    }
   ],
   "source": [
    "# |10> -- |10>\n",
    "cnot_10 = QuantumCircuit(q2, c2)\n",
    "cnot_10.x(q2[1])\n",
    "cnot_10.cx(q2[0], q2[1])\n",
    "cnot_10.measure(q2[0], c2[0])\n",
    "cnot_10.measure(q2[1], c2[1])\n",
    "execute_and_plot(cnot_10)\n",
    "circuit_drawer(cnot_10)"
   ]
  },
  {
   "cell_type": "code",
   "execution_count": 27,
   "metadata": {},
   "outputs": [],
   "source": [
    "# show_image(\"multi_q_3.png\")"
   ]
  },
  {
   "cell_type": "code",
   "execution_count": 28,
   "metadata": {},
   "outputs": [
    {
     "data": {
      "image/png": "[encoded data removed]",
      "text/plain": [
       "<Figure size 432x288 with 1 Axes>"
      ]
     },
     "metadata": {
      "needs_background": "light"
     },
     "output_type": "display_data"
    }
   ],
   "source": [
    "# |11> -- |01>\n",
    "cnot_11 = QuantumCircuit(q2, c2)\n",
    "cnot_11.x(q2[0])\n",
    "cnot_11.x(q2[1])\n",
    "cnot_11.cx(q2[0], q2[1])\n",
    "cnot_11.measure(q2[0], c2[0])\n",
    "cnot_11.measure(q2[1], c2[1])\n",
    "execute_and_plot(cnot_11)\n",
    "circuit_drawer(cnot_11)"
   ]
  },
  {
   "cell_type": "markdown",
   "metadata": {},
   "source": [
    "# Entanglement\n",
    "These are the [entanglemnt section](https://quantumexperience.ng.bluemix.net/qx/tutorial?sectionId=beginners-guide&page=007-Entanglement~2F001-Entanglement) composer examples."
   ]
  },
  {
   "cell_type": "code",
   "execution_count": 29,
   "metadata": {},
   "outputs": [],
   "source": [
    "# show_image(\"ent_q_0.png\")"
   ]
  },
  {
   "cell_type": "code",
   "execution_count": 30,
   "metadata": {},
   "outputs": [
    {
     "data": {
      "image/png": "[encoded data removed]",
      "text/plain": [
       "<Figure size 432x288 with 1 Axes>"
      ]
     },
     "metadata": {
      "needs_background": "light"
     },
     "output_type": "display_data"
    }
   ],
   "source": [
    "e0 = QuantumCircuit(q2, c2)\n",
    "e0.h(q2[0])  # apply H-gate for superposition to q0\n",
    "e0.cx(q2[0], q2[1])  # apply CNOT control from q0 to q1\n",
    "e0.measure(q2[0], c2[0])\n",
    "e0.measure(q2[1], c2[1])\n",
    "execute_and_plot(e0)\n",
    "circuit_drawer(e0)"
   ]
  },
  {
   "cell_type": "code",
   "execution_count": 31,
   "metadata": {},
   "outputs": [],
   "source": [
    "# show_image(\"ent_q_1.png\")"
   ]
  },
  {
   "cell_type": "code",
   "execution_count": 32,
   "metadata": {},
   "outputs": [
    {
     "data": {
      "image/png": "[encoded data removed]",
      "text/plain": [
       "<Figure size 432x288 with 1 Axes>"
      ]
     },
     "metadata": {
      "needs_background": "light"
     },
     "output_type": "display_data"
    }
   ],
   "source": [
    "e1 = QuantumCircuit(q2, c2)\n",
    "e1.h(q2[0])  # apply H-gate on q0 for superposition\n",
    "e1.x(q2[1])  # apply x-gate on q1\n",
    "e1.cx(q2[0], q2[1])  # apply CNOT control from q0 to q1\n",
    "e1.measure(q2[0], c2[0])\n",
    "e1.measure(q2[1], c2[1])\n",
    "execute_and_plot(e1)\n",
    "circuit_drawer(e1)"
   ]
  },
  {
   "cell_type": "code",
   "execution_count": null,
   "metadata": {},
   "outputs": [],
   "source": []
  }
 ],
 "metadata": {
  "kernelspec": {
   "display_name": "Python 3",
   "language": "python",
   "name": "python3"
  },
  "language_info": {
   "codemirror_mode": {
    "name": "ipython",
    "version": 3
   },
   "file_extension": ".py",
   "mimetype": "text/x-python",
   "name": "python",
   "nbconvert_exporter": "python",
   "pygments_lexer": "ipython3",
   "version": "3.7.0"
  }
 },
 "nbformat": 4,
 "nbformat_minor": 2
}
