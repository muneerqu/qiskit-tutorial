{
 "cells": [
  {
   "cell_type": "markdown",
   "metadata": {},
   "source": [
    "<img src=\"../../images/qiskit-heading.gif\" alt=\"Note: In order for images to show up in this jupyter notebook you need to select File => Trusted Notebook\" width=\"500 px\" align=\"left\">"
   ]
  },
  {
   "cell_type": "markdown",
   "metadata": {},
   "source": [
    "## _*Compiling and running a quantum program*_ \n",
    "\n",
    "The latest version of this notebook is available on https://github.com/QISKit/qiskit-tutorial.\n",
    "\n",
    "***\n",
    "### Contributors\n",
    "Andrew Cross and Jay Gambetta"
   ]
  },
  {
   "cell_type": "markdown",
   "metadata": {},
   "source": [
    "The qubits in the QX devices are arranged in a plane and connected to their neighbors. Because each qubit is not connected to all the others, some circuits cannot execute without rewriting them to use the available interactions. A standard way to do this is to insert \"swap\" gates, which exchange the states of pairs of qubits, to move distant qubits near one another. QISKit includes methods to do this for you.\n",
    "\n",
    "Circuit rewriting occurs in QISKit whenever you specify a \"coupling map\", but by default your circuits are not changed. The coupling map is a Python dictionary whose keys are qubits that can be used as controls, and whose values are lists of possible targets for CNOT gates. In other words, the coupling map represents the qubit layout as an adjacency list for a directed graph. \n",
    "\n",
    "The compile() method of QuantumProgram currently applies a fixed sequence of passes:\n",
    "\n",
    "* swap_mapper: uses a greedy randomized algorithm to find a swap circuit for each layer of the input circuit\n",
    "* direction_mapper: changes the direction of CNOT gates as needed\n",
    "* cx_cancellation: simplifies adjacent pairs of CNOT gates\n",
    "* optimize_1q_gates: replaces sequences of single-qubit gates by their compositions\n",
    "\n",
    "Here is an example of this process showing the tools we have provided; we then give a worked example using the quantum Fourier transform (QFT)."
   ]
  },
  {
   "cell_type": "code",
   "execution_count": 11,
   "metadata": {},
   "outputs": [],
   "source": [
    "# Import the QuantumProgram and our configuration\n",
    "import math\n",
    "from pprint import pprint\n",
    "\n",
    "# from qiskit import QuantumProgram\n",
    "from qiskit import QuantumRegister, QuantumCircuit, ClassicalRegister, execute, compile\n",
    "import Qconfig"
   ]
  },
  {
   "cell_type": "markdown",
   "metadata": {},
   "source": [
    "Lets start by first making two circuits:\n",
    "* a GHZ state on four qubits \n",
    "* a superposition on two qubits"
   ]
  },
  {
   "cell_type": "code",
   "execution_count": 5,
   "metadata": {},
   "outputs": [
    {
     "name": "stdout",
     "output_type": "stream",
     "text": [
      "OPENQASM 2.0;\n",
      "include \"qelib1.inc\";\n",
      "qreg q6[4];\n",
      "creg c6[4];\n",
      "h q6[0];\n",
      "cx q6[0],q6[1];\n",
      "cx q6[1],q6[2];\n",
      "cx q6[2],q6[3];\n",
      "measure q6[0] -> c6[0];\n",
      "measure q6[1] -> c6[1];\n",
      "measure q6[2] -> c6[2];\n",
      "measure q6[3] -> c6[3];\n",
      "\n",
      "OPENQASM 2.0;\n",
      "include \"qelib1.inc\";\n",
      "qreg q7[2];\n",
      "creg c7[2];\n",
      "h q7[0];\n",
      "h q7[1];\n",
      "measure q7[0] -> c7[0];\n",
      "measure q7[1] -> c7[1];\n",
      "\n"
     ]
    }
   ],
   "source": [
    "# qp = QuantumProgram()\n",
    "# quantum register for the first circuit\n",
    "# q1 = qp.create_quantum_register('q1', 4)\n",
    "# c1 = qp.create_classical_register('c1', 4)\n",
    "\n",
    "q1 = QuantumRegister(4)\n",
    "c1 = ClassicalRegister(4)\n",
    "\n",
    "# quantum register for the second circuit\n",
    "# q2 = qp.create_quantum_register('q2', 2)\n",
    "# c2 = qp.create_classical_register('c2', 2)\n",
    "\n",
    "q2 = QuantumRegister(2)\n",
    "c2 = ClassicalRegister(2)\n",
    "\n",
    "# making the first circuits\n",
    "# qc1 = qp.create_circuit('GHZ', [q1], [c1])\n",
    "# qc2 = qp.create_circuit('superposition', [q2], [c2])\n",
    "\n",
    "qc1 = QuantumCircuit(q1,c1)\n",
    "qc2 = QuantumCircuit(q2,c2)\n",
    "\n",
    "qc1.h(q1[0])\n",
    "qc1.cx(q1[0], q1[1])\n",
    "qc1.cx(q1[1], q1[2])\n",
    "qc1.cx(q1[2], q1[3])\n",
    "for i in range(4):\n",
    "    qc1.measure(q1[i], c1[i])\n",
    "# making the second circuits\n",
    "qc2.h(q2)\n",
    "for i in range(2):\n",
    "    qc2.measure(q2[i], c2[i])\n",
    "# printing the circuits\n",
    "# print(qp.get_qasm('GHZ'))\n",
    "# print(qp.get_qasm('superposition'))\n",
    "\n",
    "print(qc1.qasm())\n",
    "print(qc2.qasm())"
   ]
  },
  {
   "cell_type": "markdown",
   "metadata": {},
   "source": [
    "The above shows the OpenQASM for both circuits. These can be converted to ```qobj``` to run on local simulator backend."
   ]
  },
  {
   "cell_type": "code",
   "execution_count": 12,
   "metadata": {},
   "outputs": [],
   "source": [
    "qobj = compile([qc1,qc2], backend='local_qasm_simulator')\n",
    "# qp.get_execution_list(qobj)"
   ]
  },
  {
   "cell_type": "markdown",
   "metadata": {},
   "source": [
    "If you want more information about the circuits to be run, you can set ```verbose=True```"
   ]
  },
  {
   "cell_type": "code",
   "execution_count": 4,
   "metadata": {},
   "outputs": [
    {
     "name": "stdout",
     "output_type": "stream",
     "text": [
      "id: aLdZa6gCSeVI3nqXHe4sacjuWGdZDV\n",
      "backend: local_qasm_simulator\n",
      "qobj config:\n",
      " max_credits: 3\n",
      " shots: 1024\n",
      "  circuit name: GHZ\n",
      "  circuit config:\n",
      "   coupling_map: None\n",
      "   layout: None\n",
      "   basis_gates: u1,u2,u3,cx,id\n",
      "   seed: 272820342348853763191034715157325328767\n",
      "  circuit name: superposition\n",
      "  circuit config:\n",
      "   coupling_map: None\n",
      "   layout: None\n",
      "   basis_gates: u1,u2,u3,cx,id\n",
      "   seed: 272820342348853763191034715157325328767\n"
     ]
    },
    {
     "data": {
      "text/plain": [
       "['GHZ', 'superposition']"
      ]
     },
     "execution_count": 4,
     "metadata": {},
     "output_type": "execute_result"
    }
   ],
   "source": [
    "# qp.get_execution_list(qobj, verbose=True)"
   ]
  },
  {
   "cell_type": "markdown",
   "metadata": {},
   "source": [
    "To get the configuration of a circuit, use\n",
    "\n",
    "```get_compiled_configuration(qobj, 'circuit')```"
   ]
  },
  {
   "cell_type": "code",
   "execution_count": 5,
   "metadata": {},
   "outputs": [
    {
     "data": {
      "text/plain": [
       "{'basis_gates': 'u1,u2,u3,cx,id',\n",
       " 'coupling_map': None,\n",
       " 'layout': None,\n",
       " 'seed': 272820342348853763191034715157325328767}"
      ]
     },
     "execution_count": 5,
     "metadata": {},
     "output_type": "execute_result"
    }
   ],
   "source": [
    "# qp.get_compiled_configuration(qobj, 'GHZ', )"
   ]
  },
  {
   "cell_type": "markdown",
   "metadata": {},
   "source": [
    "To get the compiled qasm, use\n",
    "\n",
    "```get_compiled_qasm(qobj,'circuit')```"
   ]
  },
  {
   "cell_type": "code",
   "execution_count": 6,
   "metadata": {},
   "outputs": [
    {
     "name": "stdout",
     "output_type": "stream",
     "text": [
      "OPENQASM 2.0;\n",
      "include \"qelib1.inc\";\n",
      "qreg q1[4];\n",
      "creg c1[4];\n",
      "u2(0.0,3.141592653589793) q1[0];\n",
      "cx q1[0],q1[1];\n",
      "cx q1[1],q1[2];\n",
      "cx q1[2],q1[3];\n",
      "measure q1[2] -> c1[2];\n",
      "measure q1[3] -> c1[3];\n",
      "measure q1[1] -> c1[1];\n",
      "measure q1[0] -> c1[0];\n",
      "\n"
     ]
    }
   ],
   "source": [
    "# print(qp.get_compiled_qasm(qobj, 'GHZ'))"
   ]
  },
  {
   "cell_type": "markdown",
   "metadata": {},
   "source": [
    "If we need to change the cx gates so that they work on a device with a restricted coupling graph, we can use the coupling map in the compile command. Here we assume that the device only supports two-qubit gates, with qubit 0 being the control. "
   ]
  },
  {
   "cell_type": "code",
   "execution_count": 7,
   "metadata": {
    "collapsed": true
   },
   "outputs": [],
   "source": [
    "# Coupling map \n",
    "# coupling_map = {0: [1, 2, 3]}\n",
    "# Place the qubits on a triangle in the bow-tie\n",
    "# initial_layout={(\"q1\", 0): (\"q\", 0), (\"q1\", 1): (\"q\", 1), (\"q1\", 2): (\"q\", 2), (\"q1\", 3): (\"q\", 3)}"
   ]
  },
  {
   "cell_type": "code",
   "execution_count": 8,
   "metadata": {},
   "outputs": [
    {
     "name": "stdout",
     "output_type": "stream",
     "text": [
      "OPENQASM 2.0;\n",
      "include \"qelib1.inc\";\n",
      "qreg q[4];\n",
      "creg c1[4];\n",
      "u2(0.0,3.141592653589793) q[1];\n",
      "u1(6.283185307179586) q[0];\n",
      "cx q[0],q[1];\n",
      "u2(0.0,3.141592653589793) q[1];\n",
      "u2(0.0,3.141592653589793) q[0];\n",
      "cx q[0],q[1];\n",
      "cx q[0],q[2];\n",
      "cx q[0],q[3];\n",
      "u2(0.0,3.141592653589793) q[0];\n",
      "u2(0.0,3.141592653589793) q[3];\n",
      "cx q[0],q[3];\n",
      "u2(0.0,3.141592653589793) q[3];\n",
      "u2(0.0,3.141592653589793) q[0];\n",
      "cx q[0],q[3];\n",
      "measure q[3] -> c1[1];\n",
      "u2(0.0,3.141592653589793) q[0];\n",
      "u2(0.0,3.141592653589793) q[2];\n",
      "cx q[0],q[2];\n",
      "u2(0.0,3.141592653589793) q[2];\n",
      "measure q[2] -> c1[2];\n",
      "u2(0.0,3.141592653589793) q[0];\n",
      "measure q[0] -> c1[3];\n",
      "measure q[1] -> c1[0];\n",
      "\n"
     ]
    }
   ],
   "source": [
    "# qobj = qp.compile(['GHZ'], backend='local_qasm_simulator', coupling_map=coupling_map, initial_layout=initial_layout)\n",
    "# print(qp.get_compiled_qasm(qobj,'GHZ'))"
   ]
  },
  {
   "cell_type": "markdown",
   "metadata": {},
   "source": [
    "The above circuit, which used three cx gates originally, has a total of five now."
   ]
  },
  {
   "cell_type": "markdown",
   "metadata": {},
   "source": [
    "### QFT\n",
    "\n",
    "Here we provide another example, which is the Quantum Fourier transform. These can be loaded directly by using \n",
    "\n",
    "```import qiskit.tools.qi as qi```"
   ]
  },
  {
   "cell_type": "code",
   "execution_count": 14,
   "metadata": {},
   "outputs": [],
   "source": [
    "# Define methods for making QFT circuits\n",
    "def input_state(circ, q, n):\n",
    "    \"\"\"n-qubit input state for QFT that produces output 1.\"\"\"\n",
    "    for j in range(n):\n",
    "        circ.h(q[j])\n",
    "        circ.u1(math.pi/float(2**(j)), q[j]).inverse()\n",
    "\n",
    "\n",
    "def qft(circ, q, n):\n",
    "    \"\"\"n-qubit QFT on q in circ.\"\"\"\n",
    "    for j in range(n):\n",
    "        for k in range(j):\n",
    "            circ.cu1(math.pi/float(2**(j-k)), q[j], q[k])\n",
    "        circ.h(q[j])"
   ]
  },
  {
   "cell_type": "markdown",
   "metadata": {},
   "source": [
    "Start by creating a quantum circuit on three qubits that prepares an input state, does the QFT, and measures each qubit. The input state is chosen so that the ideal measurement outcome after the QFT is \"001\". The OpenQASM output is expressed in terms of Hadamard (h), u1(theta):=diag(1,$e^{i\\theta}$), and controlled-u1 (cu1) gates."
   ]
  },
  {
   "cell_type": "code",
   "execution_count": 16,
   "metadata": {},
   "outputs": [
    {
     "name": "stdout",
     "output_type": "stream",
     "text": [
      "OPENQASM 2.0;\n",
      "include \"qelib1.inc\";\n",
      "qreg q10[3];\n",
      "creg c10[3];\n",
      "h q10[0];\n",
      "u1(-3.14159265358979) q10[0];\n",
      "h q10[1];\n",
      "u1(-1.57079632679490) q10[1];\n",
      "h q10[2];\n",
      "u1(-0.785398163397448) q10[2];\n",
      "h q10[0];\n",
      "cu1(1.57079632679490) q10[1],q10[0];\n",
      "h q10[1];\n",
      "cu1(0.785398163397448) q10[2],q10[0];\n",
      "cu1(1.57079632679490) q10[2],q10[1];\n",
      "h q10[2];\n",
      "measure q10[0] -> c10[0];\n",
      "measure q10[1] -> c10[1];\n",
      "measure q10[2] -> c10[2];\n",
      "\n"
     ]
    }
   ],
   "source": [
    "# qp = QuantumProgram()\n",
    "# q = qp.create_quantum_register(\"q\", 3)\n",
    "# c = qp.create_classical_register(\"c\", 3)\n",
    "# qft3 = qp.create_circuit(\"qft3\", [q], [c])\n",
    "\n",
    "q = QuantumRegister(3)\n",
    "c = ClassicalRegister(3)\n",
    "qft3 = QuantumCircuit(q,c)\n",
    "\n",
    "input_state(qft3, q, 3)\n",
    "qft(qft3, q, 3)\n",
    "for i in range(3):\n",
    "    qft3.measure(q[i], c[i])\n",
    "print(qft3.qasm())"
   ]
  },
  {
   "cell_type": "markdown",
   "metadata": {},
   "source": [
    "If we execute this circuit on the local simulator, we indeed see that the outcome is always \"001\"."
   ]
  },
  {
   "cell_type": "code",
   "execution_count": 18,
   "metadata": {},
   "outputs": [
    {
     "data": {
      "text/plain": [
       "{'001': 1024}"
      ]
     },
     "execution_count": 18,
     "metadata": {},
     "output_type": "execute_result"
    }
   ],
   "source": [
    "result = execute(qft3, backend=\"local_qasm_simulator\", shots=1024)\n",
    "result.result().get_counts(qft3)"
   ]
  },
  {
   "cell_type": "markdown",
   "metadata": {},
   "source": [
    "After calling execute, we can request the \"compiled\" OpenQASM that was sent to the local simulator. The default behavior is that the circuit is not changed. Looking at the output below, you can see that each gate is expanded according to its definition into gates u1, u2, u3, and cx. There are no further simplifications. For example, the first three gates on q[2] could be combined into a single gate, but they are not."
   ]
  },
  {
   "cell_type": "code",
   "execution_count": 21,
   "metadata": {},
   "outputs": [
    {
     "name": "stdout",
     "output_type": "stream",
     "text": [
      "OPENQASM 2.0;\n",
      "include \"qelib1.inc\";\n",
      "qreg q10[3];\n",
      "creg c10[3];\n",
      "h q10[0];\n",
      "u1(-3.14159265358979) q10[0];\n",
      "h q10[1];\n",
      "u1(-1.57079632679490) q10[1];\n",
      "h q10[2];\n",
      "u1(-0.785398163397448) q10[2];\n",
      "h q10[0];\n",
      "cu1(1.57079632679490) q10[1],q10[0];\n",
      "h q10[1];\n",
      "cu1(0.785398163397448) q10[2],q10[0];\n",
      "cu1(1.57079632679490) q10[2],q10[1];\n",
      "h q10[2];\n",
      "measure q10[0] -> c10[0];\n",
      "measure q10[1] -> c10[1];\n",
      "measure q10[2] -> c10[2];\n",
      "\n"
     ]
    }
   ],
   "source": [
    "print(qft3.qasm())"
   ]
  },
  {
   "cell_type": "markdown",
   "metadata": {},
   "source": [
    "Now we will allow QISKit to rewrite the circuit for us. The ibmqx2 backend has subsets of three fully connected qubits. We will get the best results if we use one of these, since there won't be any need to swap. \n",
    "\n",
    "To get QISKit to rewrite the circuit in this way, we need to provide the \"coupling map\" and an initial layout. The coupling map below has entries such as \"0: [1, 2]\". This means that it is valid to apply a CNOT gate from q[0] to q[1], and from q[0] to q[2] (where q[0] is the control qubit). The initial layout has entries like \"(\"q\", 0): (\"q\", 2)\", which means that we should place q[0] from our input circuit at qubit q[2] on the device. Our choice places the qubits of the QFT circuit onto one of the triangles in the coupling graph.\n",
    "\n",
    "QISKit will only attempt to rewrite the circuit if coupling_map is not None. The initial_layout is always optional. If one is not given, QISKit will lay out the qubits somewhat arbitrarily, and attempt to adjust the layout so the first layer of gates does not require swapping. Note that the mapper will currently fail and raise an exception if the graph induced by the layout is not connected.\n",
    "\n",
    "We will run on the local simulator for convenience, but you can change the backend to \"ibmqx2\" to select the real device."
   ]
  },
  {
   "cell_type": "code",
   "execution_count": 22,
   "metadata": {},
   "outputs": [
    {
     "ename": "TypeError",
     "evalue": "'int' object is not subscriptable",
     "output_type": "error",
     "traceback": [
      "\u001b[1;31m---------------------------------------------------------------------------\u001b[0m",
      "\u001b[1;31mTypeError\u001b[0m                                 Traceback (most recent call last)",
      "\u001b[1;32m<ipython-input-22-8c091cfcca23>\u001b[0m in \u001b[0;36m<module>\u001b[1;34m()\u001b[0m\n\u001b[0;32m      7\u001b[0m \u001b[1;31m# Place the qubits on a triangle in the bow-tie\u001b[0m\u001b[1;33m\u001b[0m\u001b[1;33m\u001b[0m\u001b[0m\n\u001b[0;32m      8\u001b[0m \u001b[0minitial_layout\u001b[0m\u001b[1;33m=\u001b[0m\u001b[1;33m{\u001b[0m\u001b[1;33m(\u001b[0m\u001b[1;34m\"q\"\u001b[0m\u001b[1;33m,\u001b[0m \u001b[1;36m0\u001b[0m\u001b[1;33m)\u001b[0m\u001b[1;33m:\u001b[0m \u001b[1;33m(\u001b[0m\u001b[1;34m\"q\"\u001b[0m\u001b[1;33m,\u001b[0m \u001b[1;36m2\u001b[0m\u001b[1;33m)\u001b[0m\u001b[1;33m,\u001b[0m \u001b[1;33m(\u001b[0m\u001b[1;34m\"q\"\u001b[0m\u001b[1;33m,\u001b[0m \u001b[1;36m1\u001b[0m\u001b[1;33m)\u001b[0m\u001b[1;33m:\u001b[0m \u001b[1;33m(\u001b[0m\u001b[1;34m\"q\"\u001b[0m\u001b[1;33m,\u001b[0m \u001b[1;36m3\u001b[0m\u001b[1;33m)\u001b[0m\u001b[1;33m,\u001b[0m \u001b[1;33m(\u001b[0m\u001b[1;34m\"q\"\u001b[0m\u001b[1;33m,\u001b[0m \u001b[1;36m2\u001b[0m\u001b[1;33m)\u001b[0m\u001b[1;33m:\u001b[0m \u001b[1;33m(\u001b[0m\u001b[1;34m\"q\"\u001b[0m\u001b[1;33m,\u001b[0m \u001b[1;36m4\u001b[0m\u001b[1;33m)\u001b[0m\u001b[1;33m}\u001b[0m\u001b[1;33m\u001b[0m\u001b[0m\n\u001b[1;32m----> 9\u001b[1;33m \u001b[0mresult2\u001b[0m \u001b[1;33m=\u001b[0m \u001b[0mexecute\u001b[0m\u001b[1;33m(\u001b[0m\u001b[0mqft3\u001b[0m\u001b[1;33m,\u001b[0m \u001b[0mbackend\u001b[0m\u001b[1;33m=\u001b[0m\u001b[1;34m\"local_qasm_simulator\"\u001b[0m\u001b[1;33m,\u001b[0m \u001b[0mcoupling_map\u001b[0m\u001b[1;33m=\u001b[0m\u001b[0mcoupling_map\u001b[0m\u001b[1;33m,\u001b[0m \u001b[0minitial_layout\u001b[0m\u001b[1;33m=\u001b[0m\u001b[0minitial_layout\u001b[0m\u001b[1;33m)\u001b[0m\u001b[1;33m\u001b[0m\u001b[0m\n\u001b[0m\u001b[0;32m     10\u001b[0m \u001b[0mresult2\u001b[0m\u001b[1;33m.\u001b[0m\u001b[0mresult\u001b[0m\u001b[1;33m(\u001b[0m\u001b[1;33m)\u001b[0m\u001b[1;33m.\u001b[0m\u001b[0mget_counts\u001b[0m\u001b[1;33m(\u001b[0m\u001b[0mqft3\u001b[0m\u001b[1;33m)\u001b[0m\u001b[1;33m\u001b[0m\u001b[0m\n",
      "\u001b[1;32mc:\\users\\xyz\\anaconda3\\envs\\qiskitconda\\lib\\site-packages\\qiskit\\wrapper\\_wrapper.py\u001b[0m in \u001b[0;36mexecute\u001b[1;34m(circuits, backend, config, basis_gates, coupling_map, initial_layout, shots, max_credits, seed, qobj_id, hpc, skip_transpiler)\u001b[0m\n\u001b[0;32m    274\u001b[0m                    \u001b[0mconfig\u001b[0m\u001b[1;33m,\u001b[0m \u001b[0mbasis_gates\u001b[0m\u001b[1;33m,\u001b[0m \u001b[0mcoupling_map\u001b[0m\u001b[1;33m,\u001b[0m \u001b[0minitial_layout\u001b[0m\u001b[1;33m,\u001b[0m\u001b[1;33m\u001b[0m\u001b[0m\n\u001b[0;32m    275\u001b[0m                    \u001b[0mshots\u001b[0m\u001b[1;33m,\u001b[0m \u001b[0mmax_credits\u001b[0m\u001b[1;33m,\u001b[0m \u001b[0mseed\u001b[0m\u001b[1;33m,\u001b[0m \u001b[0mqobj_id\u001b[0m\u001b[1;33m,\u001b[0m \u001b[0mhpc\u001b[0m\u001b[1;33m,\u001b[0m\u001b[1;33m\u001b[0m\u001b[0m\n\u001b[1;32m--> 276\u001b[1;33m                    skip_transpiler)\n\u001b[0m\u001b[0;32m    277\u001b[0m     \u001b[1;32mreturn\u001b[0m \u001b[0mbackend\u001b[0m\u001b[1;33m.\u001b[0m\u001b[0mrun\u001b[0m\u001b[1;33m(\u001b[0m\u001b[0mqobj\u001b[0m\u001b[1;33m)\u001b[0m\u001b[1;33m\u001b[0m\u001b[0m\n\u001b[0;32m    278\u001b[0m \u001b[1;33m\u001b[0m\u001b[0m\n",
      "\u001b[1;32mc:\\users\\xyz\\anaconda3\\envs\\qiskitconda\\lib\\site-packages\\qiskit\\wrapper\\_wrapper.py\u001b[0m in \u001b[0;36mcompile\u001b[1;34m(circuits, backend, config, basis_gates, coupling_map, initial_layout, shots, max_credits, seed, qobj_id, hpc, skip_transpiler)\u001b[0m\n\u001b[0;32m    242\u001b[0m                               \u001b[0mconfig\u001b[0m\u001b[1;33m,\u001b[0m \u001b[0mbasis_gates\u001b[0m\u001b[1;33m,\u001b[0m \u001b[0mcoupling_map\u001b[0m\u001b[1;33m,\u001b[0m \u001b[0minitial_layout\u001b[0m\u001b[1;33m,\u001b[0m\u001b[1;33m\u001b[0m\u001b[0m\n\u001b[0;32m    243\u001b[0m                               \u001b[0mshots\u001b[0m\u001b[1;33m,\u001b[0m \u001b[0mmax_credits\u001b[0m\u001b[1;33m,\u001b[0m \u001b[0mseed\u001b[0m\u001b[1;33m,\u001b[0m \u001b[0mqobj_id\u001b[0m\u001b[1;33m,\u001b[0m \u001b[0mhpc\u001b[0m\u001b[1;33m,\u001b[0m\u001b[1;33m\u001b[0m\u001b[0m\n\u001b[1;32m--> 244\u001b[1;33m                               pass_manager)\n\u001b[0m\u001b[0;32m    245\u001b[0m \u001b[1;33m\u001b[0m\u001b[0m\n\u001b[0;32m    246\u001b[0m \u001b[1;33m\u001b[0m\u001b[0m\n",
      "\u001b[1;32mc:\\users\\xyz\\anaconda3\\envs\\qiskitconda\\lib\\site-packages\\qiskit\\transpiler\\_transpiler.py\u001b[0m in \u001b[0;36mcompile\u001b[1;34m(circuits, backend, config, basis_gates, coupling_map, initial_layout, shots, max_credits, seed, qobj_id, hpc, pass_manager)\u001b[0m\n\u001b[0;32m    124\u001b[0m             \u001b[0mget_layout\u001b[0m\u001b[1;33m=\u001b[0m\u001b[1;32mTrue\u001b[0m\u001b[1;33m,\u001b[0m\u001b[1;33m\u001b[0m\u001b[0m\n\u001b[0;32m    125\u001b[0m             \u001b[0mseed\u001b[0m\u001b[1;33m=\u001b[0m\u001b[0mseed\u001b[0m\u001b[1;33m,\u001b[0m\u001b[1;33m\u001b[0m\u001b[0m\n\u001b[1;32m--> 126\u001b[1;33m             pass_manager=pass_manager)\n\u001b[0m\u001b[0;32m    127\u001b[0m \u001b[1;33m\u001b[0m\u001b[0m\n\u001b[0;32m    128\u001b[0m         \u001b[1;31m# step 3c: dag -> json\u001b[0m\u001b[1;33m\u001b[0m\u001b[1;33m\u001b[0m\u001b[0m\n",
      "\u001b[1;32mc:\\users\\xyz\\anaconda3\\envs\\qiskitconda\\lib\\site-packages\\qiskit\\transpiler\\_transpiler.py\u001b[0m in \u001b[0;36mtranspile\u001b[1;34m(dag_circuit, basis_gates, coupling_map, initial_layout, get_layout, format, seed, pass_manager)\u001b[0m\n\u001b[0;32m    213\u001b[0m                         dag_circuit.property_summary())\n\u001b[0;32m    214\u001b[0m             \u001b[1;31m# Insert swap gates\u001b[0m\u001b[1;33m\u001b[0m\u001b[1;33m\u001b[0m\u001b[0m\n\u001b[1;32m--> 215\u001b[1;33m             \u001b[0mcoupling\u001b[0m \u001b[1;33m=\u001b[0m \u001b[0mCoupling\u001b[0m\u001b[1;33m(\u001b[0m\u001b[0mcoupling_list2dict\u001b[0m\u001b[1;33m(\u001b[0m\u001b[0mcoupling_map\u001b[0m\u001b[1;33m)\u001b[0m\u001b[1;33m)\u001b[0m\u001b[1;33m\u001b[0m\u001b[0m\n\u001b[0m\u001b[0;32m    216\u001b[0m             \u001b[0mlogger\u001b[0m\u001b[1;33m.\u001b[0m\u001b[0minfo\u001b[0m\u001b[1;33m(\u001b[0m\u001b[1;34m\"initial layout: %s\"\u001b[0m\u001b[1;33m,\u001b[0m \u001b[0minitial_layout\u001b[0m\u001b[1;33m)\u001b[0m\u001b[1;33m\u001b[0m\u001b[0m\n\u001b[0;32m    217\u001b[0m             dag_circuit, final_layout = swap_mapper(\n",
      "\u001b[1;32mc:\\users\\xyz\\anaconda3\\envs\\qiskitconda\\lib\\site-packages\\qiskit\\mapper\\_coupling.py\u001b[0m in \u001b[0;36mcoupling_list2dict\u001b[1;34m(couplinglist)\u001b[0m\n\u001b[0;32m     52\u001b[0m     \u001b[0mcouplingdict\u001b[0m \u001b[1;33m=\u001b[0m \u001b[1;33m{\u001b[0m\u001b[1;33m}\u001b[0m\u001b[1;33m\u001b[0m\u001b[0m\n\u001b[0;32m     53\u001b[0m     \u001b[1;32mfor\u001b[0m \u001b[0mpair\u001b[0m \u001b[1;32min\u001b[0m \u001b[0mcouplinglist\u001b[0m\u001b[1;33m:\u001b[0m\u001b[1;33m\u001b[0m\u001b[0m\n\u001b[1;32m---> 54\u001b[1;33m         \u001b[1;32mif\u001b[0m \u001b[0mpair\u001b[0m\u001b[1;33m[\u001b[0m\u001b[1;36m0\u001b[0m\u001b[1;33m]\u001b[0m \u001b[1;32min\u001b[0m \u001b[0mcouplingdict\u001b[0m\u001b[1;33m:\u001b[0m\u001b[1;33m\u001b[0m\u001b[0m\n\u001b[0m\u001b[0;32m     55\u001b[0m             \u001b[0mcouplingdict\u001b[0m\u001b[1;33m[\u001b[0m\u001b[0mpair\u001b[0m\u001b[1;33m[\u001b[0m\u001b[1;36m0\u001b[0m\u001b[1;33m]\u001b[0m\u001b[1;33m]\u001b[0m\u001b[1;33m.\u001b[0m\u001b[0mappend\u001b[0m\u001b[1;33m(\u001b[0m\u001b[0mpair\u001b[0m\u001b[1;33m[\u001b[0m\u001b[1;36m1\u001b[0m\u001b[1;33m]\u001b[0m\u001b[1;33m)\u001b[0m\u001b[1;33m\u001b[0m\u001b[0m\n\u001b[0;32m     56\u001b[0m         \u001b[1;32melse\u001b[0m\u001b[1;33m:\u001b[0m\u001b[1;33m\u001b[0m\u001b[0m\n",
      "\u001b[1;31mTypeError\u001b[0m: 'int' object is not subscriptable"
     ]
    }
   ],
   "source": [
    "# Coupling map for ibmqx2 \"bowtie\"\n",
    "coupling_map = {0: [1, 2],\n",
    "                1: [2],\n",
    "                2: [],\n",
    "                3: [2, 4],\n",
    "                4: [2]}\n",
    "# Place the qubits on a triangle in the bow-tie\n",
    "initial_layout={(\"q\", 0): (\"q\", 2), (\"q\", 1): (\"q\", 3), (\"q\", 2): (\"q\", 4)}\n",
    "result2 = execute(qft3, backend=\"local_qasm_simulator\", coupling_map=coupling_map, initial_layout=initial_layout)\n",
    "result2.result().get_counts(qft3)"
   ]
  },
  {
   "cell_type": "markdown",
   "metadata": {},
   "source": [
    "We can see that the chosen layout is the layout we requested. The number of CNOT gates was unchanged, but several single-qubit gates were eliminated. We can confirm this by looking at the \"compiled\" OpenQASM. Notice that the \"cx q[2], q[1];\" gate was mapped to \"cx q[3], q[4];\" instead of \"cx q[4], q[3];\" because the latter is not in the coupling map. Hadamard gates were inserted to exchange the control and target, and the resulting single-qubit gates were simplified."
   ]
  },
  {
   "cell_type": "code",
   "execution_count": 14,
   "metadata": {},
   "outputs": [
    {
     "name": "stdout",
     "output_type": "stream",
     "text": [
      "OPENQASM 2.0;\n",
      "include \"qelib1.inc\";\n",
      "qreg q[5];\n",
      "creg c[3];\n",
      "u2(-0.392699081698724,3.141592653589793) q[4];\n",
      "u2(-0.7853981633974485,3.141592653589793) q[3];\n",
      "u3(3.141592653589793,1.5707963267948966,4.71238898038469) q[2];\n",
      "cx q[3],q[2];\n",
      "u1(-0.7853981633974485) q[2];\n",
      "cx q[3],q[2];\n",
      "u1(6.283185307179586) q[3];\n",
      "u1(0.7853981633974485) q[2];\n",
      "cx q[4],q[2];\n",
      "u1(-0.392699081698724) q[2];\n",
      "cx q[4],q[2];\n",
      "u2(0.0,3.9269908169872414) q[4];\n",
      "cx q[3],q[4];\n",
      "u1(6.283185307179586) q[4];\n",
      "u3(0.7853981633974485,1.5707963267948966,4.71238898038469) q[3];\n",
      "cx q[3],q[4];\n",
      "u1(6.283185307179586) q[4];\n",
      "measure q[4] -> c[2];\n",
      "u2(0.7853981633974485,3.141592653589793) q[3];\n",
      "measure q[3] -> c[1];\n",
      "u1(0.392699081698724) q[2];\n",
      "measure q[2] -> c[0];\n",
      "\n"
     ]
    }
   ],
   "source": [
    "print(result2.get_ran_qasm(\"qft3\"))"
   ]
  },
  {
   "cell_type": "markdown",
   "metadata": {},
   "source": [
    "Finally, let's lay out the qubits onto a segment of the ibmqx3 16-qubit device."
   ]
  },
  {
   "cell_type": "code",
   "execution_count": 15,
   "metadata": {},
   "outputs": [
    {
     "data": {
      "text/plain": [
       "{'001': 1024}"
      ]
     },
     "execution_count": 15,
     "metadata": {},
     "output_type": "execute_result"
    }
   ],
   "source": [
    "# Place the qubits on a linear segment of the ibmqx3\n",
    "coupling_map = {0: [1], 1: [2], 2: [3], 3: [14], 4: [3, 5], 6: [7, 11], 7: [10], 8: [7], 9: [8, 10], 11: [10], 12: [5, 11, 13], 13: [4, 14], 15: [0, 14]}\n",
    "initial_layout={(\"q\", 0): (\"q\", 0), (\"q\", 1): (\"q\", 1), (\"q\", 2): (\"q\", 2)}\n",
    "result3 = qp.execute([\"qft3\"], backend=\"local_qasm_simulator\", coupling_map=coupling_map, initial_layout=initial_layout)\n",
    "result3.get_counts(\"qft3\")"
   ]
  },
  {
   "cell_type": "markdown",
   "metadata": {},
   "source": [
    "Because the qubits are now on a line, a swap gate is needed to interact the qubits at the endpoints of the line. As you can see, the number of cx gates increases, as does the circuit depth. We can look at the \"compiled\" OpenQASM to see the additional swap."
   ]
  },
  {
   "cell_type": "code",
   "execution_count": 16,
   "metadata": {},
   "outputs": [
    {
     "name": "stdout",
     "output_type": "stream",
     "text": [
      "OPENQASM 2.0;\n",
      "include \"qelib1.inc\";\n",
      "qreg q[3];\n",
      "creg c[3];\n",
      "u2(-0.392699081698724,3.141592653589793) q[2];\n",
      "u3(0.7853981633974485,1.5707963267948966,4.71238898038469) q[1];\n",
      "u2(3.141592653589793,3.141592653589793) q[0];\n",
      "cx q[0],q[1];\n",
      "u1(6.283185307179586) q[1];\n",
      "u3(0.7853981633974485,1.5707963267948966,4.71238898038469) q[0];\n",
      "cx q[0],q[1];\n",
      "u1(6.283185307179586) q[1];\n",
      "cx q[1],q[2];\n",
      "u2(0.0,3.141592653589793) q[1];\n",
      "u2(0.0,3.141592653589793) q[2];\n",
      "cx q[1],q[2];\n",
      "u2(0.0,3.141592653589793) q[2];\n",
      "u2(0.0,3.141592653589793) q[1];\n",
      "cx q[1],q[2];\n",
      "u2(0.0,3.141592653589793) q[1];\n",
      "u3(-0.7853981633974485,1.5707963267948966,4.71238898038469) q[0];\n",
      "cx q[0],q[1];\n",
      "u1(6.283185307179586) q[1];\n",
      "u3(0.392699081698724,1.5707963267948966,4.71238898038469) q[0];\n",
      "cx q[0],q[1];\n",
      "u2(0.7853981633974485,3.141592653589793) q[1];\n",
      "cx q[1],q[2];\n",
      "u1(-0.7853981633974485) q[2];\n",
      "cx q[1],q[2];\n",
      "u2(0.0,3.141592653589793) q[1];\n",
      "measure q[1] -> c[2];\n",
      "u1(0.7853981633974485) q[2];\n",
      "measure q[2] -> c[1];\n",
      "u2(0.392699081698724,3.141592653589793) q[0];\n",
      "measure q[0] -> c[0];\n",
      "\n"
     ]
    }
   ],
   "source": [
    "print(result3.get_ran_qasm(\"qft3\"))"
   ]
  },
  {
   "cell_type": "code",
   "execution_count": null,
   "metadata": {},
   "outputs": [],
   "source": []
  }
 ],
 "metadata": {
  "kernelspec": {
   "display_name": "Python 3",
   "language": "python",
   "name": "python3"
  },
  "language_info": {
   "codemirror_mode": {
    "name": "ipython",
    "version": 3
   },
   "file_extension": ".py",
   "mimetype": "text/x-python",
   "name": "python",
   "nbconvert_exporter": "python",
   "pygments_lexer": "ipython3",
   "version": "3.6.6"
  }
 },
 "nbformat": 4,
 "nbformat_minor": 2
}
