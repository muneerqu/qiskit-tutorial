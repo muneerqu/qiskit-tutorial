{
 "cells": [
  {
   "cell_type": "markdown",
   "metadata": {},
   "source": [
    "# _Modeling of Qubit Chain_\n",
    "\n",
    "## _Simulation of few steps of quantum walk_\n",
    "\n",
    "<img src=\"images/line_qubits_site1.png\" alt=\"Qubit Chain\">\n",
    "\n",
    "<img src=\"images/line_qubits_site.png\" alt=\"Qubit Chain Shift\">"
   ]
  },
  {
   "cell_type": "markdown",
   "metadata": {},
   "source": [
    "The initial part is similar with [previous notebook](qubit_chain_mod.ipynb), but only circuit\n",
    "for one step without measurements is implemented. Parameter `n_step` is used in next part\n",
    "of program discussed below."
   ]
  },
  {
   "cell_type": "code",
   "execution_count": 1,
   "metadata": {},
   "outputs": [],
   "source": [
    "# execute this cell twice to see the output due to an issue with matplotlib\n",
    "\n",
    "import sys\n",
    "if sys.version_info < (3,5):\n",
    "    raise Exception('Please use Python version 3.5 or greater.')\n",
    "    \n",
    "from pprint import pprint\n",
    "import math\n",
    "\n",
    "# importing the QISKit\n",
    "from qiskit import QuantumCircuit,QuantumRegister, ClassicalRegister, execute, compile\n",
    "\n",
    "# To use API\n",
    "#import Qconfig\n",
    "\n",
    "def gate_mu3(qcirc,theta,phi,lam,a,b):\n",
    "    qcirc.cx(a,b)\n",
    "    qcirc.cu3(theta,phi,lam,b,a)\n",
    "    qcirc.cx(a,b)\n",
    "    \n",
    "\n",
    "n_nodes = 5 \n",
    "n_step = 3\n",
    "\n",
    "# Creating Programs\n",
    "# qp = QuantumProgram()\n",
    "\n",
    "# Creating Registers\n",
    " \n",
    "qr = QuantumRegister(n_nodes)\n",
    "\n",
    "cr = ClassicalRegister(n_nodes)\n",
    "\n",
    "# Creating Circuits\n",
    "\n",
    "qc = QuantumCircuit(qr, cr)\n",
    "\n",
    "\n",
    "# Creating of two partitions with M1' and M2\n",
    "for i in range(0,n_nodes-1,2):\n",
    "    gate_mu3(qc,math.pi, math.pi, 0, qr[i], qr[i+1])\n",
    "for i in range(1,n_nodes,2):\n",
    "    gate_mu3(qc,math.pi/2, 0, 0, qr[i], qr[i+1])\n",
    "\n"
   ]
  },
  {
   "cell_type": "markdown",
   "metadata": {},
   "source": [
    "The method used here may be applied only for simulator and \n",
    "similar with already used in a [QISKit tutorial](https://github.com/QISKit/qiskit-tutorial) about \n",
    "[visualization of quantum state](https://github.com/QISKit/qiskit-tutorial/blob/master/reference/tools/visualizing_quantum_state.ipynb).\n",
    "The `local_unitary_simulator` backend is used to produce $2^n \\times 2^n$ unitary matrix\n",
    "QWalk representing quantum circuit, where $n$ is `n_nodes`. \n",
    "The complex vector with $2^n$ is initialized as initial state, \n",
    "e.g., $|\\psi_0\\rangle = |00001\\rangle$.\n",
    "Multiplication of QWalk on such a vector produces final state also with $2^n$ components\n",
    "$|\\psi_1\\rangle = Q_{\\rm Walk} |\\psi_0\\rangle$. \n",
    "The density matrix $\\rho_1 = |\\psi_1\\rangle\\!\\langle\\psi_1|$ for such a state is calculated and used for Quantum Sphere.\n",
    "Unlike of real hardware the state is not destroyed due to measurement and may\n",
    "be again used as initial state $|\\psi_{k+1}\\rangle = Q_{\\rm Walk} |\\psi_k\\rangle$. \n",
    "So, the Quantum Spheres are drawn for $\\rho_k = |\\psi_k\\rangle\\!\\langle\\psi_k|$ after each step\n",
    "of quantum walk without initialization.\n"
   ]
  },
  {
   "cell_type": "code",
   "execution_count": 2,
   "metadata": {
    "scrolled": false
   },
   "outputs": [
    {
     "name": "stdout",
     "output_type": "stream",
     "text": [
      "step =  1\n",
      "The 0th eigenvalue = 1.0000000000000004\n"
     ]
    },
    {
     "data": {
      "text/plain": [
       "<Figure size 1000x1000 with 1 Axes>"
      ]
     },
     "metadata": {},
     "output_type": "display_data"
    },
    {
     "name": "stdout",
     "output_type": "stream",
     "text": [
      "step =  2\n",
      "The 0th eigenvalue = 1.0000000000000009\n"
     ]
    },
    {
     "data": {
      "text/plain": [
       "<Figure size 1000x1000 with 1 Axes>"
      ]
     },
     "metadata": {},
     "output_type": "display_data"
    },
    {
     "name": "stdout",
     "output_type": "stream",
     "text": [
      "step =  3\n",
      "The 0th eigenvalue = 1.0000000000000013\n"
     ]
    },
    {
     "data": {
      "text/plain": [
       "<Figure size 1000x1000 with 1 Axes>"
      ]
     },
     "metadata": {},
     "output_type": "display_data"
    }
   ],
   "source": [
    "# import state tomography functions\n",
    "from qiskit.tools.visualization import plot_histogram, plot_state\n",
    "\n",
    "import numpy as np\n",
    "\n",
    "# execute the quantum circuit \n",
    "backend = 'local_unitary_simulator' # the device to run on\n",
    "\n",
    "qobj = compile(qc, backend=backend)\n",
    "\n",
    "result = execute(qc, backend=backend)\n",
    "\n",
    "initial_state = np.zeros(2**n_nodes)\n",
    "initial_state[1]=1.0 # state 0 = ....0000, state 1 = ...000001\n",
    "\n",
    "QWalk = result.result().get_data(qc)['unitary']\n",
    "\n",
    "#Applying QWalk n_step times\n",
    "for i in range(0,n_step):\n",
    "    if i > 0: initial_state = np.copy(state_QWalk) # Copy previous state\n",
    "    state_QWalk = np.dot(QWalk,initial_state)      # Multiply on QWalk matrix\n",
    "    rho_QWalk=np.outer(state_QWalk, state_QWalk.conj()) # Calculate density matrix\n",
    "    print('step = ',i+1)                           # print number\n",
    "    plot_state(rho_QWalk,'qsphere')                # draw Quantum Sphere\n",
    "    "
   ]
  },
  {
   "cell_type": "markdown",
   "metadata": {
    "collapsed": true
   },
   "source": [
    "The method used above is possible _only for simulation_. \n",
    "Real hardware _should not_ use result of previous step altered due to measurement. \n",
    "So, for $n$ steps of walk it is necessary to make $n$ different experiments with\n",
    "n_step=$1,2,\\dots,n$ \n",
    "and each such attempt could include additional series of runs to provide \n",
    "[state tomography](https://github.com/QISKit/qiskit-tutorial/blob/master/reference/qcvv/state_tomography.ipynb)\n",
    "for whole process of quantum walk.\n"
   ]
  }
 ],
 "metadata": {
  "kernelspec": {
   "display_name": "Python 3",
   "language": "python",
   "name": "python3"
  },
  "language_info": {
   "codemirror_mode": {
    "name": "ipython",
    "version": 3
   },
   "file_extension": ".py",
   "mimetype": "text/x-python",
   "name": "python",
   "nbconvert_exporter": "python",
   "pygments_lexer": "ipython3",
   "version": "3.7.0"
  }
 },
 "nbformat": 4,
 "nbformat_minor": 2
}
